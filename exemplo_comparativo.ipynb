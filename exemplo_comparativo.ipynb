{
  "nbformat": 4,
  "nbformat_minor": 0,
  "metadata": {
    "colab": {
      "name": "exemplo_comparativo.ipynb",
      "version": "0.3.2",
      "provenance": [],
      "include_colab_link": true
    },
    "kernelspec": {
      "name": "python3",
      "display_name": "Python 3"
    }
  },
  "cells": [
    {
      "cell_type": "markdown",
      "metadata": {
        "id": "view-in-github",
        "colab_type": "text"
      },
      "source": [
        "<a href=\"https://colab.research.google.com/github/davicn/Acceleration_with_Numba/blob/master/exemplo_comparativo.ipynb\" target=\"_parent\"><img src=\"https://colab.research.google.com/assets/colab-badge.svg\" alt=\"Open In Colab\"/></a>"
      ]
    },
    {
      "metadata": {
        "id": "3EZ27_S7sgqh",
        "colab_type": "text"
      },
      "cell_type": "markdown",
      "source": [
        "# Comparação NumPy x Numba\n",
        "\n"
      ]
    },
    {
      "metadata": {
        "id": "7WXCwl-M0G0n",
        "colab_type": "text"
      },
      "cell_type": "markdown",
      "source": [
        "Um pequeno exemplo do ganho de desempenho com Numba. \n",
        "\n",
        "Faremos uma função que retorna um vetor criado pela média ponto a ponto  de itens de uma matriz 23x921000 com números aleatórios. "
      ]
    },
    {
      "metadata": {
        "id": "aeObANCU0VVX",
        "colab_type": "code",
        "colab": {}
      },
      "cell_type": "code",
      "source": [
        "from numba import jit\n",
        "import numpy as np\n",
        "import time\n"
      ],
      "execution_count": 0,
      "outputs": []
    },
    {
      "metadata": {
        "id": "Dzy_1gAjsrDx",
        "colab_type": "code",
        "outputId": "34387552-6213-4933-fa30-d1dbc52af6c9",
        "colab": {
          "base_uri": "https://localhost:8080/",
          "height": 34
        }
      },
      "cell_type": "code",
      "source": [
        "# média ponto a ponto com Numpy\n",
        "\n",
        "def m1(x):\n",
        "    return np.array([np.mean(x[:,i]) for i in range(len(x[0])) ])\n",
        "\n",
        "#Criando matrix aleatória 23x921000\n",
        "x = np.random.rand(23,921000)\n",
        "\n",
        "t1 = time.time()\n",
        "m1(x)\n",
        "t2 = time.time()\n",
        "\n",
        "print(\"Tempo de execução com NumPy: \",t2-t1)"
      ],
      "execution_count": 39,
      "outputs": [
        {
          "output_type": "stream",
          "text": [
            "Tempo de execução com NumPy:  6.531533718109131\n"
          ],
          "name": "stdout"
        }
      ]
    },
    {
      "metadata": {
        "id": "aumhFLRa29FK",
        "colab_type": "code",
        "outputId": "d5667083-d133-4581-ac99-563c41f693ee",
        "colab": {
          "base_uri": "https://localhost:8080/",
          "height": 34
        }
      },
      "cell_type": "code",
      "source": [
        "# média ponto a ponto com Numba\n",
        "\n",
        "@jit(nopython=True)\n",
        "def m1(x):\n",
        "    return np.array([np.mean(x[:,i]) for i in range(len(x[0])) ])\n",
        "\n",
        "#Criando matrix aleatória 23x921000\n",
        "x = np.random.rand(23,921000)\n",
        "\n",
        "t1 = time.time()\n",
        "m1(x)\n",
        "t2 = time.time()\n",
        "\n",
        "print(\"Tempo de execução com Numba: \",t2-t1)"
      ],
      "execution_count": 40,
      "outputs": [
        {
          "output_type": "stream",
          "text": [
            "Tempo de execução com Numba:  0.2841310501098633\n"
          ],
          "name": "stdout"
        }
      ]
    }
  ]
}