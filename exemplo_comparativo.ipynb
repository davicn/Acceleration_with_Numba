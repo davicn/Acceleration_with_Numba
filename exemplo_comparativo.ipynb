{
  "nbformat": 4,
  "nbformat_minor": 0,
  "metadata": {
    "colab": {
      "name": "exemplo_comparativo.ipynb",
      "version": "0.3.2",
      "provenance": [],
      "include_colab_link": true
    },
    "kernelspec": {
      "name": "python3",
      "display_name": "Python 3"
    }
  },
  "cells": [
    {
      "cell_type": "markdown",
      "metadata": {
        "id": "view-in-github",
        "colab_type": "text"
      },
      "source": [
        "<a href=\"https://colab.research.google.com/github/davicn/Acceleration_with_Numba/blob/master/exemplo_comparativo.ipynb\" target=\"_parent\"><img src=\"https://colab.research.google.com/assets/colab-badge.svg\" alt=\"Open In Colab\"/></a>"
      ]
    },
    {
      "metadata": {
        "id": "3EZ27_S7sgqh",
        "colab_type": "text"
      },
      "cell_type": "markdown",
      "source": [
        "# Comparação NumPy x Numba\n",
        "\n"
      ]
    },
    {
      "metadata": {
        "id": "7WXCwl-M0G0n",
        "colab_type": "text"
      },
      "cell_type": "markdown",
      "source": [
        "Um pequeno exemplo do ganho de desempenho com Numba. Faremos uma função que realiza a soma de vetores de tamanho considerável "
      ]
    },
    {
      "metadata": {
        "id": "aeObANCU0VVX",
        "colab_type": "code",
        "colab": {}
      },
      "cell_type": "code",
      "source": [
        "from numba import jit\n",
        "import numpy as np\n",
        "import time\n"
      ],
      "execution_count": 0,
      "outputs": []
    },
    {
      "metadata": {
        "id": "Dzy_1gAjsrDx",
        "colab_type": "code",
        "outputId": "57a13014-7507-47e9-eee7-c1e88bb8cfd9",
        "colab": {
          "base_uri": "https://localhost:8080/",
          "height": 34
        }
      },
      "cell_type": "code",
      "source": [
        "# média ponto a ponto com Numpy\n",
        "\n",
        "def m1(x):\n",
        "    return np.array([np.mean(x[:,i]) for i in range(len(x[0])) ])\n",
        "\n",
        "t1 = time.time()\n",
        "\n",
        "#Criando matrix aleatória 23x921000\n",
        "x = np.random.rand(23,921000)\n",
        "m1(x)\n",
        "\n",
        "t2 = time.time()\n",
        "print(\"Tempo de execução com NumPy: \",t2-t1)"
      ],
      "execution_count": 36,
      "outputs": [
        {
          "output_type": "stream",
          "text": [
            "Tempo de execução com NumPy:  6.710026264190674\n"
          ],
          "name": "stdout"
        }
      ]
    },
    {
      "metadata": {
        "id": "aumhFLRa29FK",
        "colab_type": "code",
        "outputId": "a27d764c-62c6-4c78-f61e-e1139622ad43",
        "colab": {
          "base_uri": "https://localhost:8080/",
          "height": 34
        }
      },
      "cell_type": "code",
      "source": [
        "# média ponto a ponto com Numba\n",
        "\n",
        "@jit(nopython=True)\n",
        "def m1(x):\n",
        "    return np.array([np.mean(x[:,i]) for i in range(len(x[0])) ])\n",
        "\n",
        "t1 = time.time()\n",
        "#Criando matrix aleatória 23x921000\n",
        "x = np.random.rand(23,921000)\n",
        "m1(x)\n",
        "\n",
        "t2 = time.time()\n",
        "print(\"Tempo de execução com Numba: \",t2-t1)"
      ],
      "execution_count": 37,
      "outputs": [
        {
          "output_type": "stream",
          "text": [
            "Tempo de execução com Numba:  0.4282722473144531\n"
          ],
          "name": "stdout"
        }
      ]
    }
  ]
}