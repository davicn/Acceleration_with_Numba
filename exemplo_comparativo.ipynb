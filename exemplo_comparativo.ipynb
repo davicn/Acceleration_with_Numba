{
  "nbformat": 4,
  "nbformat_minor": 0,
  "metadata": {
    "colab": {
      "name": "exemplo_comparativo.ipynb",
      "version": "0.3.2",
      "provenance": [],
      "include_colab_link": true
    },
    "kernelspec": {
      "name": "python3",
      "display_name": "Python 3"
    }
  },
  "cells": [
    {
      "cell_type": "markdown",
      "metadata": {
        "id": "view-in-github",
        "colab_type": "text"
      },
      "source": [
        "<a href=\"https://colab.research.google.com/github/davicn/Acceleration_with_Numba/blob/master/exemplo_comparativo.ipynb\" target=\"_parent\"><img src=\"https://colab.research.google.com/assets/colab-badge.svg\" alt=\"Open In Colab\"/></a>"
      ]
    },
    {
      "metadata": {
        "id": "3EZ27_S7sgqh",
        "colab_type": "text"
      },
      "cell_type": "markdown",
      "source": [
        "# Comparação NumPy x Numba\n",
        "\n"
      ]
    },
    {
      "metadata": {
        "id": "7WXCwl-M0G0n",
        "colab_type": "text"
      },
      "cell_type": "markdown",
      "source": [
        "Um pequeno exemplo do ganho de desempenho com Numba."
      ]
    },
    {
      "metadata": {
        "id": "aeObANCU0VVX",
        "colab_type": "code",
        "colab": {}
      },
      "cell_type": "code",
      "source": [
        "import numpy as np\n",
        "import time\n",
        "import numba"
      ],
      "execution_count": 0,
      "outputs": []
    },
    {
      "metadata": {
        "id": "Dzy_1gAjsrDx",
        "colab_type": "code",
        "colab": {}
      },
      "cell_type": "code",
      "source": [
        ""
      ],
      "execution_count": 0,
      "outputs": []
    },
    {
      "metadata": {
        "id": "bzsHaNCosycI",
        "colab_type": "text"
      },
      "cell_type": "markdown",
      "source": [
        "## Conceito Iniciais\n",
        "\n",
        "**Numba** trata-se de um compilador *just-in-time* para a linguagem Python, o qual usa como base loops, arrays e funções do **NumPy**.\n",
        "\n",
        "A sua usabilidade é bem simples e sua curva de aprendizagem pequena, pois para ativar os recursos do **Numba** basta apenas fazer de sua coleção de decoradores que ao serem aplicados em funções vão instruir como o **NUmba** deve compilá-las. A partir disso a função decorada é compilada em código de máquina, fazendo que seja notório o ganho de performace.\n",
        "\n",
        "O **Numba** exige os seguitnes pré-requisitos:\n",
        "\n",
        "* SO: Windows (32 e 64 bits), OSX e Linux (32 e 64 bits)\n",
        "* Arquitetura: x86, x86_64, ppc64le. (Em teste: armv7l, armv8l (aarch64)).\n",
        "* GPUs: Nvidia CUDA. (Em teste: AMD ROC.\n",
        "CPython)\n",
        "* NumPy 1.10 ou mais recente."
      ]
    },
    {
      "metadata": {
        "id": "5BlNOQhHvPWr",
        "colab_type": "code",
        "colab": {}
      },
      "cell_type": "code",
      "source": [
        ""
      ],
      "execution_count": 0,
      "outputs": []
    },
    {
      "metadata": {
        "id": "dOBDqeoGsf6t",
        "colab_type": "code",
        "colab": {}
      },
      "cell_type": "code",
      "source": [
        ""
      ],
      "execution_count": 0,
      "outputs": []
    }
  ]
}