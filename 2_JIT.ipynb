{
  "nbformat": 4,
  "nbformat_minor": 0,
  "metadata": {
    "colab": {
      "name": "2-JIT.ipynb",
      "version": "0.3.2",
      "provenance": [],
      "include_colab_link": true
    },
    "kernelspec": {
      "name": "python3",
      "display_name": "Python 3"
    }
  },
  "cells": [
    {
      "cell_type": "markdown",
      "metadata": {
        "id": "view-in-github",
        "colab_type": "text"
      },
      "source": [
        "<a href=\"https://colab.research.google.com/github/davicn/Acceleration_with_Numba/blob/master/2_JIT.ipynb\" target=\"_parent\"><img src=\"https://colab.research.google.com/assets/colab-badge.svg\" alt=\"Open In Colab\"/></a>"
      ]
    },
    {
      "metadata": {
        "id": "xx8U0qHHXJPE",
        "colab_type": "text"
      },
      "cell_type": "markdown",
      "source": [
        "# Compilando Python com @jit"
      ]
    },
    {
      "metadata": {
        "id": "w63BgxdpXSiC",
        "colab_type": "text"
      },
      "cell_type": "markdown",
      "source": [
        "Uma das características principais do **Numba** é o decorador ***numba.jit()***. A seguir veremos formas básicas de uso do mesmo."
      ]
    },
    {
      "metadata": {
        "id": "QJb-0csyX75N",
        "colab_type": "text"
      },
      "cell_type": "markdown",
      "source": [
        "## Uso Básico"
      ]
    },
    {
      "metadata": {
        "id": "coi_h-LhYHcK",
        "colab_type": "text"
      },
      "cell_type": "markdown",
      "source": [
        "Usando apenas o dacorador  **@jit**, sem qualquer parâmetro, a compilação será adiada até a primeira execução da função. Nesse caso, com base nas informações de entrada o **Numba**  decidirá quais os argumentos e tempo de chamada para gerar o código otimizado."
      ]
    },
    {
      "metadata": {
        "id": "fERChqHdY5Xs",
        "colab_type": "code",
        "colab": {
          "base_uri": "https://localhost:8080/",
          "height": 53
        },
        "outputId": "4926aa98-3c73-4313-982e-3cd58a0b2da1"
      },
      "cell_type": "code",
      "source": [
        "from numba import jit\n",
        "import numpy as np\n",
        "\n",
        "@jit\n",
        "def f(x,y):\n",
        "    return x+y\n",
        "\n",
        "x = np.random.rand(500000)\n",
        "y = np.random.rand(500000)\n",
        "\n",
        "f(x,y)"
      ],
      "execution_count": 2,
      "outputs": [
        {
          "output_type": "execute_result",
          "data": {
            "text/plain": [
              "array([0.31759986, 0.30475954, 0.76378968, ..., 1.14188523, 0.86441503,\n",
              "       1.31341848])"
            ]
          },
          "metadata": {
            "tags": []
          },
          "execution_count": 2
        }
      ]
    },
    {
      "metadata": {
        "id": "Uz2lofxaZeAF",
        "colab_type": "text"
      },
      "cell_type": "markdown",
      "source": [
        "É possível alterar a assinatura que a função está esperando. a especialização definida será compilada pelo decorador **@jit**, ***e nenhuma outra especialização será permitida.***\n"
      ]
    },
    {
      "metadata": {
        "id": "Kjzku6DBZOre",
        "colab_type": "code",
        "colab": {}
      },
      "cell_type": "code",
      "source": [
        "from numba import jit, float64\n",
        "import numpy as np\n",
        "\n",
        "@jit(float64(float64,float64))\n",
        "def f(x,y):\n",
        "    return x+y\n"
      ],
      "execution_count": 0,
      "outputs": []
    },
    {
      "metadata": {
        "id": "RrPjghnqc97t",
        "colab_type": "text"
      },
      "cell_type": "markdown",
      "source": [
        "É possível também chmar funções compiladas em outras funções compiladas. "
      ]
    },
    {
      "metadata": {
        "id": "zx8cmzkDdU6O",
        "colab_type": "code",
        "colab": {}
      },
      "cell_type": "code",
      "source": [
        "from numba import jit\n",
        "import numpy as np\n",
        "\n",
        "@jit\n",
        "def quadrado(x):\n",
        "    return x**2\n",
        "\n",
        "@jit\n",
        "def hipotenusa(x, y):\n",
        "    return np.sqrt(square(x)+square(y))"
      ],
      "execution_count": 0,
      "outputs": []
    },
    {
      "metadata": {
        "id": "wAndfjfFdqWv",
        "colab_type": "text"
      },
      "cell_type": "markdown",
      "source": [
        "## Especificações de assinaturas"
      ]
    },
    {
      "metadata": {
        "id": "RHnaNjLWd8e-",
        "colab_type": "text"
      },
      "cell_type": "markdown",
      "source": [
        "A seguir algumas das assinuturas suportadas pelo **@jit**:\n",
        "\n",
        "* **void** quando não há retorno de função;\n",
        "* **intp** e **uintp**são inteiros de tipo ponteiro;\n",
        "* **intc** e **uintc** são equivalentes a tipos C;\n",
        "* **int8**, **uint8**, **int16**, **uint16**, **int32**, **uint32**, **int64**, **uint64** são tipos inteiros de largura fixa de bits;\n",
        "* **float32** e **float64** são números de ponto flutuante de precisão simples e dupla, respectivamente;\n",
        "* **complex64** e **complex128** são números complexos de precisão simples e dupla, respectivamente;\n",
        "* tipos de matriz podem ser especificados indexando qualquer tipo numérico, por exemplo, **float32[ : ]** para uma matriz de precisão única unidimensional ou **int8[ : , : ]** para uma matriz bidimensional de inteiros de 8 bits.\n",
        "\n"
      ]
    },
    {
      "metadata": {
        "id": "N7M_rv2UgnSy",
        "colab_type": "text"
      },
      "cell_type": "markdown",
      "source": [
        "## Opções de compilação"
      ]
    },
    {
      "metadata": {
        "id": "mZ76K51UgyDy",
        "colab_type": "text"
      },
      "cell_type": "markdown",
      "source": [
        "Vimos como podemos definir tipos especificos de saida e entrada de funções decoradas com **@jit**. Veremos agora parametros que definem como a função será compilada de fato."
      ]
    },
    {
      "metadata": {
        "id": "Fwv2Ru3Ak5mC",
        "colab_type": "code",
        "colab": {}
      },
      "cell_type": "code",
      "source": [
        ""
      ],
      "execution_count": 0,
      "outputs": []
    },
    {
      "metadata": {
        "id": "O8sC5aIzhXj1",
        "colab_type": "text"
      },
      "cell_type": "markdown",
      "source": [
        ""
      ]
    },
    {
      "metadata": {
        "id": "SFy49iz8hVeN",
        "colab_type": "code",
        "colab": {}
      },
      "cell_type": "code",
      "source": [
        ""
      ],
      "execution_count": 0,
      "outputs": []
    },
    {
      "metadata": {
        "id": "zHhmkGYJflRt",
        "colab_type": "code",
        "colab": {}
      },
      "cell_type": "code",
      "source": [
        ""
      ],
      "execution_count": 0,
      "outputs": []
    },
    {
      "metadata": {
        "id": "oAgGatKMZxkr",
        "colab_type": "code",
        "colab": {}
      },
      "cell_type": "code",
      "source": [
        ""
      ],
      "execution_count": 0,
      "outputs": []
    },
    {
      "metadata": {
        "id": "BK4LE1DQX9u3",
        "colab_type": "code",
        "colab": {}
      },
      "cell_type": "code",
      "source": [
        ""
      ],
      "execution_count": 0,
      "outputs": []
    },
    {
      "metadata": {
        "id": "ERW75K8XXsQQ",
        "colab_type": "code",
        "colab": {}
      },
      "cell_type": "code",
      "source": [
        ""
      ],
      "execution_count": 0,
      "outputs": []
    },
    {
      "metadata": {
        "id": "zap8oBcaXNmr",
        "colab_type": "code",
        "colab": {}
      },
      "cell_type": "code",
      "source": [
        ""
      ],
      "execution_count": 0,
      "outputs": []
    },
    {
      "metadata": {
        "id": "VCK5AJ0oWtHS",
        "colab_type": "code",
        "colab": {}
      },
      "cell_type": "code",
      "source": [
        ""
      ],
      "execution_count": 0,
      "outputs": []
    }
  ]
}